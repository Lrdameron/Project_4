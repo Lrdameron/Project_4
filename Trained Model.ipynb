{
 "cells": [
  {
   "cell_type": "code",
   "execution_count": 21,
   "id": "e033db55-3077-4a86-a4bb-1f88db3e025d",
   "metadata": {},
   "outputs": [],
   "source": [
    "# --- Imports ---\n",
    "import pandas as pd\n",
    "import numpy as np\n",
    "from sklearn.model_selection import train_test_split\n",
    "from sklearn.preprocessing import StandardScaler, OneHotEncoder\n",
    "from sklearn.compose import ColumnTransformer\n",
    "from sklearn.pipeline import Pipeline\n",
    "from sklearn.impute import SimpleImputer\n",
    "from sklearn.linear_model import LogisticRegression\n",
    "from sklearn.metrics import accuracy_score, confusion_matrix, classification_report, roc_auc_score\n",
    "from sklearn.base import BaseEstimator, TransformerMixin\n",
    "import matplotlib.pyplot as plt\n",
    "import seaborn as sns"
   ]
  },
  {
   "cell_type": "code",
   "execution_count": 22,
   "id": "21db9739",
   "metadata": {},
   "outputs": [],
   "source": [
    "# --- Custom Transformer to Handle Empty Strings ---\n",
    "class EmptyStringToNaN(BaseEstimator, TransformerMixin):\n",
    "    def fit(self, X, y=None):\n",
    "        return self\n",
    "    def transform(self, X):\n",
    "        return X.replace('', np.nan)"
   ]
  },
  {
   "cell_type": "code",
   "execution_count": 23,
   "id": "75b03ad4-7e4b-41ca-833f-106cc194953e",
   "metadata": {},
   "outputs": [
    {
     "data": {
      "text/html": [
       "<div>\n",
       "<style scoped>\n",
       "    .dataframe tbody tr th:only-of-type {\n",
       "        vertical-align: middle;\n",
       "    }\n",
       "\n",
       "    .dataframe tbody tr th {\n",
       "        vertical-align: top;\n",
       "    }\n",
       "\n",
       "    .dataframe thead th {\n",
       "        text-align: right;\n",
       "    }\n",
       "</style>\n",
       "<table border=\"1\" class=\"dataframe\">\n",
       "  <thead>\n",
       "    <tr style=\"text-align: right;\">\n",
       "      <th></th>\n",
       "      <th>id</th>\n",
       "      <th>issue_d</th>\n",
       "      <th>loan_amnt</th>\n",
       "      <th>term</th>\n",
       "      <th>installment</th>\n",
       "      <th>emp_length</th>\n",
       "      <th>home_ownership</th>\n",
       "      <th>annual_inc</th>\n",
       "      <th>verification_status</th>\n",
       "      <th>loan_status</th>\n",
       "      <th>purpose</th>\n",
       "      <th>addr_state</th>\n",
       "      <th>dti</th>\n",
       "      <th>delinq_2yrs</th>\n",
       "      <th>fico_range_low</th>\n",
       "      <th>fico_range_high</th>\n",
       "      <th>inq_last_6mths</th>\n",
       "      <th>delinquent</th>\n",
       "    </tr>\n",
       "  </thead>\n",
       "  <tbody>\n",
       "    <tr>\n",
       "      <th>0</th>\n",
       "      <td>112575999.0</td>\n",
       "      <td>7/1/2017</td>\n",
       "      <td>35000.0</td>\n",
       "      <td>60 months</td>\n",
       "      <td>851.51</td>\n",
       "      <td>9 years</td>\n",
       "      <td>RENT</td>\n",
       "      <td>175000.0</td>\n",
       "      <td>Verified</td>\n",
       "      <td>Charged Off</td>\n",
       "      <td>other</td>\n",
       "      <td>CA</td>\n",
       "      <td>13.51</td>\n",
       "      <td>0.0</td>\n",
       "      <td>710.0</td>\n",
       "      <td>714.0</td>\n",
       "      <td>0.0</td>\n",
       "      <td>1</td>\n",
       "    </tr>\n",
       "    <tr>\n",
       "      <th>1</th>\n",
       "      <td>122347826.0</td>\n",
       "      <td>11/1/2017</td>\n",
       "      <td>12100.0</td>\n",
       "      <td>36 months</td>\n",
       "      <td>467.83</td>\n",
       "      <td>4 years</td>\n",
       "      <td>MORTGAGE</td>\n",
       "      <td>106000.0</td>\n",
       "      <td>Not Verified</td>\n",
       "      <td>Fully Paid</td>\n",
       "      <td>debt_consolidation</td>\n",
       "      <td>VA</td>\n",
       "      <td>27.47</td>\n",
       "      <td>0.0</td>\n",
       "      <td>670.0</td>\n",
       "      <td>674.0</td>\n",
       "      <td>0.0</td>\n",
       "      <td>0</td>\n",
       "    </tr>\n",
       "    <tr>\n",
       "      <th>2</th>\n",
       "      <td>133439083.0</td>\n",
       "      <td>6/1/2018</td>\n",
       "      <td>17000.0</td>\n",
       "      <td>36 months</td>\n",
       "      <td>533.35</td>\n",
       "      <td>4 years</td>\n",
       "      <td>MORTGAGE</td>\n",
       "      <td>65000.0</td>\n",
       "      <td>Source Verified</td>\n",
       "      <td>Current</td>\n",
       "      <td>credit_card</td>\n",
       "      <td>CA</td>\n",
       "      <td>12.78</td>\n",
       "      <td>0.0</td>\n",
       "      <td>700.0</td>\n",
       "      <td>704.0</td>\n",
       "      <td>1.0</td>\n",
       "      <td>0</td>\n",
       "    </tr>\n",
       "    <tr>\n",
       "      <th>3</th>\n",
       "      <td>119216681.0</td>\n",
       "      <td>10/1/2017</td>\n",
       "      <td>12000.0</td>\n",
       "      <td>60 months</td>\n",
       "      <td>327.69</td>\n",
       "      <td>10+ years</td>\n",
       "      <td>RENT</td>\n",
       "      <td>60000.0</td>\n",
       "      <td>Verified</td>\n",
       "      <td>Current</td>\n",
       "      <td>debt_consolidation</td>\n",
       "      <td>AZ</td>\n",
       "      <td>26.60</td>\n",
       "      <td>0.0</td>\n",
       "      <td>660.0</td>\n",
       "      <td>664.0</td>\n",
       "      <td>2.0</td>\n",
       "      <td>0</td>\n",
       "    </tr>\n",
       "    <tr>\n",
       "      <th>4</th>\n",
       "      <td>142845437.0</td>\n",
       "      <td>10/1/2018</td>\n",
       "      <td>14000.0</td>\n",
       "      <td>36 months</td>\n",
       "      <td>426.61</td>\n",
       "      <td>4 years</td>\n",
       "      <td>MORTGAGE</td>\n",
       "      <td>57000.0</td>\n",
       "      <td>Source Verified</td>\n",
       "      <td>Current</td>\n",
       "      <td>debt_consolidation</td>\n",
       "      <td>CA</td>\n",
       "      <td>10.74</td>\n",
       "      <td>0.0</td>\n",
       "      <td>685.0</td>\n",
       "      <td>689.0</td>\n",
       "      <td>0.0</td>\n",
       "      <td>0</td>\n",
       "    </tr>\n",
       "  </tbody>\n",
       "</table>\n",
       "</div>"
      ],
      "text/plain": [
       "            id    issue_d  loan_amnt        term  installment emp_length  \\\n",
       "0  112575999.0   7/1/2017    35000.0   60 months       851.51    9 years   \n",
       "1  122347826.0  11/1/2017    12100.0   36 months       467.83    4 years   \n",
       "2  133439083.0   6/1/2018    17000.0   36 months       533.35    4 years   \n",
       "3  119216681.0  10/1/2017    12000.0   60 months       327.69  10+ years   \n",
       "4  142845437.0  10/1/2018    14000.0   36 months       426.61    4 years   \n",
       "\n",
       "  home_ownership  annual_inc verification_status  loan_status  \\\n",
       "0           RENT    175000.0            Verified  Charged Off   \n",
       "1       MORTGAGE    106000.0        Not Verified   Fully Paid   \n",
       "2       MORTGAGE     65000.0     Source Verified      Current   \n",
       "3           RENT     60000.0            Verified      Current   \n",
       "4       MORTGAGE     57000.0     Source Verified      Current   \n",
       "\n",
       "              purpose addr_state    dti  delinq_2yrs  fico_range_low  \\\n",
       "0               other         CA  13.51          0.0           710.0   \n",
       "1  debt_consolidation         VA  27.47          0.0           670.0   \n",
       "2         credit_card         CA  12.78          0.0           700.0   \n",
       "3  debt_consolidation         AZ  26.60          0.0           660.0   \n",
       "4  debt_consolidation         CA  10.74          0.0           685.0   \n",
       "\n",
       "   fico_range_high  inq_last_6mths  delinquent  \n",
       "0            714.0             0.0           1  \n",
       "1            674.0             0.0           0  \n",
       "2            704.0             1.0           0  \n",
       "3            664.0             2.0           0  \n",
       "4            689.0             0.0           0  "
      ]
     },
     "execution_count": 23,
     "metadata": {},
     "output_type": "execute_result"
    }
   ],
   "source": [
    "# Load dataset\n",
    "data = pd.read_csv('accepted_final.csv')  # Use the correct file path here\n",
    "data = data.dropna(axis=1, how='all')\n",
    "data.head()"
   ]
  },
  {
   "cell_type": "code",
   "execution_count": 24,
   "id": "63667191-8e3f-40e0-aee9-c3816517ca12",
   "metadata": {},
   "outputs": [
    {
     "name": "stdout",
     "output_type": "stream",
     "text": [
      "Missing values in each column:\n",
      "id                         1\n",
      "issue_d                    1\n",
      "loan_amnt                  1\n",
      "term                       1\n",
      "installment                1\n",
      "emp_length             22115\n",
      "home_ownership             1\n",
      "annual_inc                 1\n",
      "verification_status        1\n",
      "loan_status                1\n",
      "purpose                    1\n",
      "addr_state                 1\n",
      "dti                      502\n",
      "delinq_2yrs                1\n",
      "fico_range_low             1\n",
      "fico_range_high            1\n",
      "inq_last_6mths             1\n",
      "delinquent                 0\n",
      "dtype: int64\n"
     ]
    }
   ],
   "source": [
    "print(\"Missing values in each column:\")\n",
    "print(data.isnull().sum())"
   ]
  },
  {
   "cell_type": "code",
   "execution_count": 25,
   "id": "bbabf9e6-192e-44aa-8d75-20d0d16874fd",
   "metadata": {},
   "outputs": [
    {
     "name": "stdout",
     "output_type": "stream",
     "text": [
      "Index(['id', 'issue_d', 'loan_amnt', 'term', 'installment', 'emp_length',\n",
      "       'home_ownership', 'annual_inc', 'verification_status', 'loan_status',\n",
      "       'purpose', 'addr_state', 'dti', 'delinq_2yrs', 'fico_range_low',\n",
      "       'fico_range_high', 'inq_last_6mths', 'delinquent'],\n",
      "      dtype='object')\n"
     ]
    }
   ],
   "source": [
    "# Check the column names to find the target column\n",
    "print(data.columns)"
   ]
  },
  {
   "cell_type": "code",
   "execution_count": 26,
   "id": "0fb02605",
   "metadata": {},
   "outputs": [
    {
     "name": "stdout",
     "output_type": "stream",
     "text": [
      "\n",
      "Target class distribution\n",
      "loan_status\n",
      "Current               0.733048\n",
      "Fully Paid            0.189554\n",
      "Charged Off           0.051359\n",
      "Late (31-120 days)    0.016670\n",
      "In Grace Period       0.005997\n",
      "Late (16-30 days)     0.003341\n",
      "Default               0.000032\n",
      "Name: proportion, dtype: float64\n"
     ]
    }
   ],
   "source": [
    "# Check Class balnce in target\n",
    "print(\"\\nTarget class distribution\")\n",
    "print(data['loan_status'].value_counts(normalize=True))"
   ]
  },
  {
   "cell_type": "code",
   "execution_count": 27,
   "id": "df3019d2",
   "metadata": {},
   "outputs": [
    {
     "name": "stdout",
     "output_type": "stream",
     "text": [
      "\n",
      "Unique values in target column:\n",
      "['Charged Off' 'Fully Paid' 'Current' 'In Grace Period'\n",
      " 'Late (31-120 days)' 'Late (16-30 days)' 'Default' nan]\n"
     ]
    }
   ],
   "source": [
    "print(\"\\nUnique values in target column:\")\n",
    "print(data['loan_status'].unique())"
   ]
  },
  {
   "cell_type": "code",
   "execution_count": 28,
   "id": "fda76e05-35ae-4b43-a65d-ff5550b3c6be",
   "metadata": {},
   "outputs": [
    {
     "name": "stdout",
     "output_type": "stream",
     "text": [
      "            id    issue_d  loan_amnt        term  installment emp_length  \\\n",
      "0  112575999.0   7/1/2017    35000.0   60 months       851.51    9 years   \n",
      "1  122347826.0  11/1/2017    12100.0   36 months       467.83    4 years   \n",
      "2  133439083.0   6/1/2018    17000.0   36 months       533.35    4 years   \n",
      "3  119216681.0  10/1/2017    12000.0   60 months       327.69  10+ years   \n",
      "4  142845437.0  10/1/2018    14000.0   36 months       426.61    4 years   \n",
      "\n",
      "  home_ownership  annual_inc verification_status             purpose  \\\n",
      "0           RENT    175000.0            Verified               other   \n",
      "1       MORTGAGE    106000.0        Not Verified  debt_consolidation   \n",
      "2       MORTGAGE     65000.0     Source Verified         credit_card   \n",
      "3           RENT     60000.0            Verified  debt_consolidation   \n",
      "4       MORTGAGE     57000.0     Source Verified  debt_consolidation   \n",
      "\n",
      "  addr_state    dti  delinq_2yrs  fico_range_low  fico_range_high  \\\n",
      "0         CA  13.51          0.0           710.0            714.0   \n",
      "1         VA  27.47          0.0           670.0            674.0   \n",
      "2         CA  12.78          0.0           700.0            704.0   \n",
      "3         AZ  26.60          0.0           660.0            664.0   \n",
      "4         CA  10.74          0.0           685.0            689.0   \n",
      "\n",
      "   inq_last_6mths  delinquent  \n",
      "0             0.0           1  \n",
      "1             0.0           0  \n",
      "2             1.0           0  \n",
      "3             2.0           0  \n",
      "4             0.0           0  \n",
      "0    Charged Off\n",
      "1     Fully Paid\n",
      "2        Current\n",
      "3        Current\n",
      "4        Current\n",
      "Name: loan_status, dtype: object\n"
     ]
    }
   ],
   "source": [
    "# Separate features (X) and target (y)\n",
    "X = data.drop(columns=['loan_status'])  # Drop the target column 'loan_status'\n",
    "y = data['loan_status']  # The target column is 'loan_status'\n",
    "\n",
    "# --- Drop rows with missing values in either X or y ---\n",
    "combined = pd.concat([X, y], axis=1)\n",
    "combined = combined.dropna()\n",
    "X = combined.drop(columns=['loan_status'])\n",
    "y = combined['loan_status']\n",
    "\n",
    "# Check the first few rows of X and y to confirm\n",
    "print(X.head())\n",
    "print(y.head())"
   ]
  },
  {
   "cell_type": "code",
   "execution_count": 29,
   "id": "38aa362c-0d4a-407d-8050-0c4c328c8fec",
   "metadata": {},
   "outputs": [],
   "source": [
    "# Identify categorical and numeric columns\n",
    "categorical_cols = list(X.select_dtypes(include=['object']).columns)\n",
    "numeric_cols = list(X.select_dtypes(exclude=['object']).columns)"
   ]
  },
  {
   "cell_type": "code",
   "execution_count": 30,
   "id": "636f212d-3dee-44ba-856b-9c9dd0bdf6f7",
   "metadata": {},
   "outputs": [],
   "source": [
    "# Create preprocessing pipeline for numeric and categorical columns\n",
    "numeric_pipeline = Pipeline(steps=[\n",
    "    ('imputer', SimpleImputer(strategy='mean')),  # Handle missing values by replacing with mean\n",
    "    ('scaler', StandardScaler())  # Normalize numeric features\n",
    "])\n",
    "\n",
    "categorical_pipeline = Pipeline(steps=[\n",
    "    ('empty_to_nan', EmptyStringToNaN()),\n",
    "    ('imputer', SimpleImputer(strategy='most_frequent')),  # Handle missing values by replacing with the most frequent value\n",
    "    ('encoder', OneHotEncoder(handle_unknown='ignore'))  # Encode categorical features using one-hot encoding\n",
    "])"
   ]
  },
  {
   "cell_type": "code",
   "execution_count": 31,
   "id": "45cd288c-fecf-4a11-97da-1748c63dd215",
   "metadata": {},
   "outputs": [],
   "source": [
    "# Combine both pipelines into a single ColumnTransformer\n",
    "preprocessor = ColumnTransformer(\n",
    "    transformers=[\n",
    "        ('num', numeric_pipeline, numeric_cols),\n",
    "        ('cat', categorical_pipeline, categorical_cols)\n",
    "    ])"
   ]
  },
  {
   "cell_type": "code",
   "execution_count": 32,
   "id": "c26546b4-b237-4752-8c1c-6ec52b2e25d7",
   "metadata": {},
   "outputs": [],
   "source": [
    "# Split the data into training and testing sets\n",
    "X_train, X_test, y_train, y_test = train_test_split(X, y, test_size=0.3, random_state=42)"
   ]
  },
  {
   "cell_type": "code",
   "execution_count": 33,
   "id": "85369461-c975-4ede-8a39-f076dbd0c990",
   "metadata": {},
   "outputs": [],
   "source": [
    "# Apply preprocessing pipeline to training and testing data\n",
    "X_train_preprocessed = preprocessor.fit_transform(X_train)\n",
    "X_test_preprocessed = preprocessor.transform(X_test)"
   ]
  },
  {
   "cell_type": "code",
   "execution_count": 34,
   "id": "515f32f2",
   "metadata": {},
   "outputs": [],
   "source": [
    "# --- Convert to dense arrays safely ---\n",
    "if hasattr(X_train_preprocessed, \"toarray\"):\n",
    "    X_train_dense = X_train_preprocessed.toarray()\n",
    "else:\n",
    "    X_train_dense = X_train_preprocessed\n",
    "\n",
    "if hasattr(X_test_preprocessed, \"toarray\"):\n",
    "    X_test_dense = X_test_preprocessed.toarray()\n",
    "else:\n",
    "    X_test_dense = X_test_preprocessed"
   ]
  },
  {
   "cell_type": "code",
   "execution_count": 35,
   "id": "ddf1f594-5918-4b6d-a92f-e94eb99b6ddb",
   "metadata": {},
   "outputs": [
    {
     "name": "stdout",
     "output_type": "stream",
     "text": [
      "Shape of preprocessed training data: (181646, 117)\n",
      "Shape of preprocessed testing data: (77849, 117)\n"
     ]
    }
   ],
   "source": [
    "# Optionally, if you want to check the shapes of the transformed data\n",
    "print(f\"Shape of preprocessed training data: {X_train_preprocessed.shape}\")\n",
    "print(f\"Shape of preprocessed testing data: {X_test_preprocessed.shape}\")"
   ]
  },
  {
   "cell_type": "code",
   "execution_count": 36,
   "id": "1c0391cd",
   "metadata": {},
   "outputs": [
    {
     "name": "stdout",
     "output_type": "stream",
     "text": [
      "\n",
      "Checking for NaNs before training:\n",
      "X_train_dense has NaNs: False\n",
      "X_test_dense has NaNs: False\n",
      "y_train has NaNs: False\n",
      "y_test has NaNs: False\n"
     ]
    }
   ],
   "source": [
    "# --- Final NaN Check ---\n",
    "print(\"\\nChecking for NaNs before training:\")\n",
    "print(\"X_train_dense has NaNs:\", np.isnan(X_train_dense).any())\n",
    "print(\"X_test_dense has NaNs:\", np.isnan(X_test_dense).any())\n",
    "print(\"y_train has NaNs:\", pd.isnull(y_train).any())\n",
    "print(\"y_test has NaNs:\", pd.isnull(y_test).any())"
   ]
  },
  {
   "cell_type": "markdown",
   "id": "17eb1810",
   "metadata": {},
   "source": [
    "#  Train the Model "
   ]
  },
  {
   "cell_type": "code",
   "execution_count": 37,
   "id": "2afce898",
   "metadata": {},
   "outputs": [
    {
     "name": "stdout",
     "output_type": "stream",
     "text": [
      "✅ Model trained successfully.\n"
     ]
    }
   ],
   "source": [
    "model = LogisticRegression(max_iter=1000)\n",
    "fit_model = model.fit(X_train_dense, y_train)\n",
    "print(\"✅ Model trained successfully.\")"
   ]
  },
  {
   "cell_type": "code",
   "execution_count": 38,
   "id": "088161a2",
   "metadata": {},
   "outputs": [],
   "source": [
    "#Predictions\n",
    "y_pred = model.predict(X_test_dense)"
   ]
  },
  {
   "cell_type": "code",
   "execution_count": 39,
   "id": "070e5c86",
   "metadata": {},
   "outputs": [
    {
     "name": "stdout",
     "output_type": "stream",
     "text": [
      "Accuracy: 78.55%\n",
      "Confusion Matrix:\n",
      "[[ 3705     0     0     0     0     0   129]\n",
      " [    0 55919     0  1017     0     0     0]\n",
      " [    1     0     0     0     0     0     0]\n",
      " [    0 13762     0  1249     0     0     0]\n",
      " [    0   470     0    15     0     0     0]\n",
      " [  180     0     0     0     0     2    66]\n",
      " [ 1052     0     0     0     0     5   277]]\n"
     ]
    },
    {
     "name": "stderr",
     "output_type": "stream",
     "text": [
      "/opt/anaconda3/lib/python3.12/site-packages/sklearn/metrics/_classification.py:1509: UndefinedMetricWarning: Precision is ill-defined and being set to 0.0 in labels with no predicted samples. Use `zero_division` parameter to control this behavior.\n",
      "  _warn_prf(average, modifier, f\"{metric.capitalize()} is\", len(result))\n",
      "/opt/anaconda3/lib/python3.12/site-packages/sklearn/metrics/_classification.py:1509: UndefinedMetricWarning: Precision is ill-defined and being set to 0.0 in labels with no predicted samples. Use `zero_division` parameter to control this behavior.\n",
      "  _warn_prf(average, modifier, f\"{metric.capitalize()} is\", len(result))\n",
      "/opt/anaconda3/lib/python3.12/site-packages/sklearn/metrics/_classification.py:1509: UndefinedMetricWarning: Precision is ill-defined and being set to 0.0 in labels with no predicted samples. Use `zero_division` parameter to control this behavior.\n",
      "  _warn_prf(average, modifier, f\"{metric.capitalize()} is\", len(result))\n"
     ]
    },
    {
     "name": "stdout",
     "output_type": "stream",
     "text": [
      "Classification Report:\n",
      "                    precision    recall  f1-score   support\n",
      "\n",
      "       Charged Off       0.75      0.97      0.84      3834\n",
      "           Current       0.80      0.98      0.88     56936\n",
      "           Default       0.00      0.00      0.00         1\n",
      "        Fully Paid       0.55      0.08      0.14     15011\n",
      "   In Grace Period       0.00      0.00      0.00       485\n",
      " Late (16-30 days)       0.29      0.01      0.02       248\n",
      "Late (31-120 days)       0.59      0.21      0.31      1334\n",
      "\n",
      "          accuracy                           0.79     77849\n",
      "         macro avg       0.42      0.32      0.31     77849\n",
      "      weighted avg       0.74      0.79      0.72     77849\n",
      "\n"
     ]
    },
    {
     "data": {
      "image/png": "[encoded data removed]",
      "text/plain": [
       "<Figure size 640x480 with 2 Axes>"
      ]
     },
     "metadata": {},
     "output_type": "display_data"
    }
   ],
   "source": [
    "# Accuracy\n",
    "accuracy = accuracy_score(y_test, y_pred)\n",
    "print(f'Accuracy: {accuracy * 100:.2f}%')\n",
    "\n",
    "# Confusion Matrix\n",
    "conf_matrix = confusion_matrix(y_test, y_pred)\n",
    "print('Confusion Matrix:')\n",
    "print(conf_matrix)\n",
    "\n",
    "# Classification Report (Precision, Recall, F1-score)\n",
    "class_report = classification_report(y_test, y_pred)\n",
    "print('Classification Report:')\n",
    "print(class_report)\n",
    "\n",
    "# Visualize Confusion Matrix\n",
    "sns.heatmap(conf_matrix, annot=True, fmt='d', cmap='Blues', xticklabels=['No', 'Yes'], yticklabels=['No', 'Yes'])\n",
    "plt.title('Confusion Matrix')\n",
    "plt.xlabel('Predicted')\n",
    "plt.ylabel('Actual')\n",
    "plt.show()"
   ]
  }
 ],
 "metadata": {
  "kernelspec": {
   "display_name": "fitenv",
   "language": "python",
   "name": "python3"
  },
  "language_info": {
   "codemirror_mode": {
    "name": "ipython",
    "version": 3
   },
   "file_extension": ".py",
   "mimetype": "text/x-python",
   "name": "python",
   "nbconvert_exporter": "python",
   "pygments_lexer": "ipython3",
   "version": "3.12.2"
  }
 },
 "nbformat": 4,
 "nbformat_minor": 5
}

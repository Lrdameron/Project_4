{
 "cells": [
  {
   "cell_type": "code",
   "execution_count": 14,
   "metadata": {},
   "outputs": [],
   "source": [
    "import pandas as pd\n",
    "import numpy as np"
   ]
  },
  {
   "cell_type": "code",
   "execution_count": 15,
   "metadata": {},
   "outputs": [],
   "source": [
    "accepted_df = pd.read_csv(\"accepted_2007_to_2018Q4.csv\",low_memory=False)"
   ]
  },
  {
   "cell_type": "code",
   "execution_count": 16,
   "metadata": {},
   "outputs": [
    {
     "name": "stderr",
     "output_type": "stream",
     "text": [
      "C:\\Users\\corde\\AppData\\Local\\Temp\\ipykernel_30264\\781122453.py:2: UserWarning: Could not infer format, so each element will be parsed individually, falling back to `dateutil`. To ensure parsing is consistent and as-expected, please specify a format.\n",
      "  accepted_df['issue_d'] = pd.to_datetime(accepted_df['issue_d'])\n"
     ]
    },
    {
     "name": "stdout",
     "output_type": "stream",
     "text": [
      "Original size: 2260701, Reduced size: 938821\n"
     ]
    }
   ],
   "source": [
    "# Convert 'issue_d' to datetime format\n",
    "accepted_df['issue_d'] = pd.to_datetime(accepted_df['issue_d'])\n",
    "\n",
    "# Filter out rows where 'issue_d' is older than Jan 1, 2016\n",
    "accepted_df_filtered = accepted_df[accepted_df['issue_d'] >= '2017-01-01']\n",
    "\n",
    "print(f\"Original size: {len(accepted_df)}, Reduced size: {len(accepted_df_filtered)}\")"
   ]
  },
  {
   "cell_type": "code",
   "execution_count": 17,
   "metadata": {},
   "outputs": [
    {
     "name": "stdout",
     "output_type": "stream",
     "text": [
      "Original size: 938821, Reduced size: 281646\n"
     ]
    }
   ],
   "source": [
    "# Calculate 20% of the total rows\n",
    "new_size = int(len(accepted_df_filtered) * 0.30)\n",
    "\n",
    "# Randomly sample 70% of the data\n",
    "accepted_df_reduced = accepted_df_filtered.sample(n=new_size, random_state=42)  # Set random_state for reproducibility\n",
    "\n",
    "# Save the reduced dataset if needed\n",
    "accepted_df_reduced.to_csv(\"accepted_reduced.csv\", index=False)\n",
    "\n",
    "print(f\"Original size: {len(accepted_df_filtered)}, Reduced size: {len(accepted_df_reduced)}\")"
   ]
  },
  {
   "cell_type": "code",
   "execution_count": 21,
   "metadata": {},
   "outputs": [],
   "source": [
    "# Specify the 16 columns to keep\n",
    "columns_to_keep = [\"id\", \"issue_d\",\"loan_amnt\", \"term\", \"installment\", \"emp_length\", \"home_ownership\", \"annual_inc\", \"verification_status\", \n",
    "                   \"loan_status\", \"purpose\", \"addr_state\", \"dti\", \"delinq_2yrs\", \"fico_range_low\", \"fico_range_high\", \"inq_last_6mths\"]\n",
    "\n",
    "# Keep only those columns\n",
    "accepted_df_final = accepted_df_reduced[columns_to_keep]\n"
   ]
  },
  {
   "cell_type": "code",
   "execution_count": 24,
   "metadata": {},
   "outputs": [
    {
     "name": "stdout",
     "output_type": "stream",
     "text": [
      "         loan_status  delinquent\n",
      "647986   Charged Off         1.0\n",
      "2115790   Fully Paid         0.0\n",
      "1521275      Current         0.0\n",
      "2150360      Current         0.0\n",
      "1435062      Current         0.0\n"
     ]
    }
   ],
   "source": [
    "# Define delinquent loan statuses\n",
    "delinquent_statuses = ['Late (16-30 days)', 'Late (31-120 days)', 'Default', 'Charged Off']\n",
    "\n",
    "# Create 'delinquent' column (1 = delinquent, 0 = not delinquent)\n",
    "accepted_df_final.loc[:,'delinquent'] = accepted_df_final['loan_status'].isin(delinquent_statuses).astype(int)\n",
    "\n",
    "# Check the first few rows\n",
    "print(accepted_df_final[['loan_status', 'delinquent']].head())\n",
    "\n",
    "# Save to a new CSV file\n",
    "accepted_df_final.to_csv(\"accepted_final.csv\", index=False)"
   ]
  }
 ],
 "metadata": {
  "kernelspec": {
   "display_name": "base",
   "language": "python",
   "name": "python3"
  },
  "language_info": {
   "codemirror_mode": {
    "name": "ipython",
    "version": 3
   },
   "file_extension": ".py",
   "mimetype": "text/x-python",
   "name": "python",
   "nbconvert_exporter": "python",
   "pygments_lexer": "ipython3",
   "version": "3.12.4"
  }
 },
 "nbformat": 4,
 "nbformat_minor": 2
}

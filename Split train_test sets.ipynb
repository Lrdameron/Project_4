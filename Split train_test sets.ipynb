{
 "cells": [
  {
   "cell_type": "code",
   "execution_count": 1,
   "id": "e033db55-3077-4a86-a4bb-1f88db3e025d",
   "metadata": {},
   "outputs": [],
   "source": [
    "import pandas as pd\n",
    "from sklearn.model_selection import train_test_split\n",
    "from sklearn.preprocessing import StandardScaler, OneHotEncoder\n",
    "from sklearn.compose import ColumnTransformer\n",
    "from sklearn.pipeline import Pipeline\n",
    "from sklearn.impute import SimpleImputer"
   ]
  },
  {
   "cell_type": "code",
   "execution_count": 3,
   "id": "75b03ad4-7e4b-41ca-833f-106cc194953e",
   "metadata": {},
   "outputs": [
    {
     "name": "stdout",
     "output_type": "stream",
     "text": [
      "id                         0\n",
      "issue_d                    0\n",
      "loan_amnt                  0\n",
      "term                       0\n",
      "installment                0\n",
      "emp_length             22114\n",
      "home_ownership             0\n",
      "annual_inc                 0\n",
      "verification_status        0\n",
      "loan_status                0\n",
      "purpose                    0\n",
      "addr_state                 0\n",
      "dti                      501\n",
      "delinq_2yrs                0\n",
      "fico_range_low             0\n",
      "fico_range_high            0\n",
      "inq_last_6mths             0\n",
      "delinquent                 0\n",
      "dtype: int64\n"
     ]
    }
   ],
   "source": [
    "# Load dataset\n",
    "data = pd.read_csv('accepted_final.csv')  # Use the correct file path here\n",
    "\n",
    "# Check for missing values\n",
    "print(data.isnull().sum())"
   ]
  },
  {
   "cell_type": "code",
   "execution_count": 4,
   "id": "63667191-8e3f-40e0-aee9-c3816517ca12",
   "metadata": {},
   "outputs": [
    {
     "name": "stdout",
     "output_type": "stream",
     "text": [
      "id                         0\n",
      "issue_d                    0\n",
      "loan_amnt                  0\n",
      "term                       0\n",
      "installment                0\n",
      "emp_length             22114\n",
      "home_ownership             0\n",
      "annual_inc                 0\n",
      "verification_status        0\n",
      "loan_status                0\n",
      "purpose                    0\n",
      "addr_state                 0\n",
      "dti                      501\n",
      "delinq_2yrs                0\n",
      "fico_range_low             0\n",
      "fico_range_high            0\n",
      "inq_last_6mths             0\n",
      "delinquent                 0\n",
      "dtype: int64\n"
     ]
    }
   ],
   "source": [
    "# Check for missing values\n",
    "print(data.isnull().sum())"
   ]
  },
  {
   "cell_type": "code",
   "execution_count": 6,
   "id": "bbabf9e6-192e-44aa-8d75-20d0d16874fd",
   "metadata": {},
   "outputs": [
    {
     "name": "stdout",
     "output_type": "stream",
     "text": [
      "Index(['id', 'issue_d', 'loan_amnt', 'term', 'installment', 'emp_length',\n",
      "       'home_ownership', 'annual_inc', 'verification_status', 'loan_status',\n",
      "       'purpose', 'addr_state', 'dti', 'delinq_2yrs', 'fico_range_low',\n",
      "       'fico_range_high', 'inq_last_6mths', 'delinquent'],\n",
      "      dtype='object')\n"
     ]
    }
   ],
   "source": [
    "# Check the column names to find the target column\n",
    "print(data.columns)"
   ]
  },
  {
   "cell_type": "code",
   "execution_count": 7,
   "id": "fda76e05-35ae-4b43-a65d-ff5550b3c6be",
   "metadata": {},
   "outputs": [
    {
     "name": "stdout",
     "output_type": "stream",
     "text": [
      "          id     issue_d  loan_amnt        term  installment emp_length  \\\n",
      "0  112575999  2017-07-01    35000.0   60 months       851.51    9 years   \n",
      "1  122347826  2017-11-01    12100.0   36 months       467.83    4 years   \n",
      "2  133439083  2018-06-01    17000.0   36 months       533.35    4 years   \n",
      "3  119216681  2017-10-01    12000.0   60 months       327.69  10+ years   \n",
      "4  142845437  2018-10-01    14000.0   36 months       426.61    4 years   \n",
      "\n",
      "  home_ownership  annual_inc verification_status             purpose  \\\n",
      "0           RENT    175000.0            Verified               other   \n",
      "1       MORTGAGE    106000.0        Not Verified  debt_consolidation   \n",
      "2       MORTGAGE     65000.0     Source Verified         credit_card   \n",
      "3           RENT     60000.0            Verified  debt_consolidation   \n",
      "4       MORTGAGE     57000.0     Source Verified  debt_consolidation   \n",
      "\n",
      "  addr_state    dti  delinq_2yrs  fico_range_low  fico_range_high  \\\n",
      "0         CA  13.51          0.0           710.0            714.0   \n",
      "1         VA  27.47          0.0           670.0            674.0   \n",
      "2         CA  12.78          0.0           700.0            704.0   \n",
      "3         AZ  26.60          0.0           660.0            664.0   \n",
      "4         CA  10.74          0.0           685.0            689.0   \n",
      "\n",
      "   inq_last_6mths  delinquent  \n",
      "0             0.0           1  \n",
      "1             0.0           0  \n",
      "2             1.0           0  \n",
      "3             2.0           0  \n",
      "4             0.0           0  \n",
      "0    Charged Off\n",
      "1     Fully Paid\n",
      "2        Current\n",
      "3        Current\n",
      "4        Current\n",
      "Name: loan_status, dtype: object\n"
     ]
    }
   ],
   "source": [
    "# Separate features (X) and target (y)\n",
    "X = data.drop(columns=['loan_status'])  # Drop the target column 'loan_status'\n",
    "y = data['loan_status']  # The target column is 'loan_status'\n",
    "\n",
    "# Check the first few rows of X and y to confirm\n",
    "print(X.head())\n",
    "print(y.head())"
   ]
  },
  {
   "cell_type": "code",
   "execution_count": 8,
   "id": "38aa362c-0d4a-407d-8050-0c4c328c8fec",
   "metadata": {},
   "outputs": [],
   "source": [
    "# Identify categorical and numeric columns\n",
    "categorical_cols = X.select_dtypes(include=['object']).columns\n",
    "numeric_cols = X.select_dtypes(exclude=['object']).columns"
   ]
  },
  {
   "cell_type": "code",
   "execution_count": 9,
   "id": "636f212d-3dee-44ba-856b-9c9dd0bdf6f7",
   "metadata": {},
   "outputs": [],
   "source": [
    "# Create preprocessing pipeline for numeric and categorical columns\n",
    "numeric_pipeline = Pipeline(steps=[\n",
    "    ('imputer', SimpleImputer(strategy='mean')),  # Handle missing values by replacing with mean\n",
    "    ('scaler', StandardScaler())  # Normalize numeric features\n",
    "])\n",
    "\n",
    "categorical_pipeline = Pipeline(steps=[\n",
    "    ('imputer', SimpleImputer(strategy='most_frequent')),  # Handle missing values by replacing with the most frequent value\n",
    "    ('encoder', OneHotEncoder(handle_unknown='ignore'))  # Encode categorical features using one-hot encoding\n",
    "])"
   ]
  },
  {
   "cell_type": "code",
   "execution_count": 10,
   "id": "45cd288c-fecf-4a11-97da-1748c63dd215",
   "metadata": {},
   "outputs": [],
   "source": [
    "# Combine both pipelines into a single ColumnTransformer\n",
    "preprocessor = ColumnTransformer(\n",
    "    transformers=[\n",
    "        ('num', numeric_pipeline, numeric_cols),\n",
    "        ('cat', categorical_pipeline, categorical_cols)\n",
    "    ])"
   ]
  },
  {
   "cell_type": "code",
   "execution_count": 11,
   "id": "c26546b4-b237-4752-8c1c-6ec52b2e25d7",
   "metadata": {},
   "outputs": [],
   "source": [
    "# Split the data into training and testing sets\n",
    "X_train, X_test, y_train, y_test = train_test_split(X, y, test_size=0.3, random_state=42)"
   ]
  },
  {
   "cell_type": "code",
   "execution_count": 12,
   "id": "85369461-c975-4ede-8a39-f076dbd0c990",
   "metadata": {},
   "outputs": [],
   "source": [
    "# Apply preprocessing pipeline to training and testing data\n",
    "X_train_preprocessed = preprocessor.fit_transform(X_train)\n",
    "X_test_preprocessed = preprocessor.transform(X_test)"
   ]
  },
  {
   "cell_type": "code",
   "execution_count": 13,
   "id": "ddf1f594-5918-4b6d-a92f-e94eb99b6ddb",
   "metadata": {},
   "outputs": [
    {
     "name": "stdout",
     "output_type": "stream",
     "text": [
      "Shape of preprocessed training data: (197152, 117)\n",
      "Shape of preprocessed testing data: (84494, 117)\n"
     ]
    }
   ],
   "source": [
    "# Optionally, if you want to check the shapes of the transformed data\n",
    "print(f\"Shape of preprocessed training data: {X_train_preprocessed.shape}\")\n",
    "print(f\"Shape of preprocessed testing data: {X_test_preprocessed.shape}\")"
   ]
  }
 ],
 "metadata": {
  "kernelspec": {
   "display_name": "Python 3 (ipykernel)",
   "language": "python",
   "name": "python3"
  },
  "language_info": {
   "codemirror_mode": {
    "name": "ipython",
    "version": 3
   },
   "file_extension": ".py",
   "mimetype": "text/x-python",
   "name": "python",
   "nbconvert_exporter": "python",
   "pygments_lexer": "ipython3",
   "version": "3.12.4"
  }
 },
 "nbformat": 4,
 "nbformat_minor": 5
}
